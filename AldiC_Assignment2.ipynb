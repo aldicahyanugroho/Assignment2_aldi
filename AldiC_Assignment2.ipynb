{
  "nbformat": 4,
  "nbformat_minor": 0,
  "metadata": {
    "colab": {
      "provenance": []
    },
    "kernelspec": {
      "name": "python3",
      "display_name": "Python 3"
    },
    "language_info": {
      "name": "python"
    }
  },
  "cells": [
    {
      "cell_type": "code",
      "execution_count": 3,
      "metadata": {
        "id": "UpTsaMDv9FG1"
      },
      "outputs": [],
      "source": [
        "def value_position(num):\n",
        "    pos = num[0]\n",
        "    if pos >= len(num) or pos < 1:\n",
        "        return -1\n",
        "    return num [pos+1]"
      ]
    },
    {
      "cell_type": "code",
      "source": [
        "print(value_position((3, 10, 20, 30, 40)))\n",
        "print(value_position((0, -10, 10)))\n",
        "print(value_position((1, 2, 300, 10)))\n",
        "print(value_position((100, 200, 300, -400)))\n",
        "print(value_position((4, 200, 300, -400)))"
      ],
      "metadata": {
        "colab": {
          "base_uri": "https://localhost:8080/"
        },
        "id": "zWdC9Yds-ben",
        "outputId": "8ee7f4fb-5440-4427-e018-ec6b112f4230"
      },
      "execution_count": 4,
      "outputs": [
        {
          "output_type": "stream",
          "name": "stdout",
          "text": [
            "40\n",
            "-1\n",
            "300\n",
            "-1\n",
            "-1\n"
          ]
        }
      ]
    },
    {
      "cell_type": "code",
      "source": [
        "import rumus_aldi as module\n",
        "\n",
        "print(module.luas_segitiga(5,5))\n",
        "print(module.keliling_segitiga(5,5,5))"
      ],
      "metadata": {
        "colab": {
          "base_uri": "https://localhost:8080/"
        },
        "id": "tC1rWnOg-iFU",
        "outputId": "e1d34084-a0c2-4bb3-badb-2edc03987a1f"
      },
      "execution_count": 6,
      "outputs": [
        {
          "output_type": "stream",
          "name": "stdout",
          "text": [
            "12.5\n",
            "15\n"
          ]
        }
      ]
    }
  ]
}